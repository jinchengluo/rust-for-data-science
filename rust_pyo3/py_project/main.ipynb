{
 "cells": [
  {
   "cell_type": "code",
   "execution_count": 1,
   "id": "6dbc9da3",
   "metadata": {},
   "outputs": [
    {
     "name": "stdout",
     "output_type": "stream",
     "text": [
      "/home/kabbalow/datacraft/rust_for_data_science/.venv/bin/python\n"
     ]
    }
   ],
   "source": [
    "# To make sure to be in the right Python virtual environment\n",
    "import sys\n",
    "print(sys.executable)"
   ]
  },
  {
   "cell_type": "code",
   "execution_count": 2,
   "id": "d4f1962a",
   "metadata": {},
   "outputs": [],
   "source": [
    "import matplotlib.pyplot as plt\n",
    "import numpy as np\n",
    "import time\n",
    "from sklearn.cluster import KMeans\n",
    "import sklearn.datasets as datasets\n",
    "# Rust import\n",
    "import rust_pyo3"
   ]
  },
  {
   "cell_type": "code",
   "execution_count": 3,
   "id": "4fe89f8b",
   "metadata": {},
   "outputs": [
    {
     "name": "stdout",
     "output_type": "stream",
     "text": [
      "Python time : 0.7496597766876221\n",
      "Python result : 408.3944296003566\n",
      "Rust time : 0.6383671760559082\n",
      "Rust result : 408.3944292933919\n"
     ]
    }
   ],
   "source": [
    "x = np.random.rand(1000000)\n",
    "y = np.random.rand(1000000)\n",
    "\n",
    "# Python \n",
    "def euclidean(x, y): \n",
    "    s = 0\n",
    "    for i in range(len(x)):\n",
    "        s += (x[i] - y[i])**2\n",
    "    return np.sqrt(s)\n",
    "\n",
    "start = time.time()\n",
    "dist_py = euclidean(x, y)\n",
    "print(\"Python time :\", time.time() - start)\n",
    "print(\"Python result :\", dist_py)\n",
    "\n",
    "# Rust\n",
    "start = time.time()\n",
    "dist_rust = rust_pyo3.euclidean(x, y)\n",
    "print(\"Rust time :\", time.time() - start)\n",
    "print(\"Rust result :\", dist_rust)"
   ]
  },
  {
   "cell_type": "code",
   "execution_count": 4,
   "id": "be0e2d10",
   "metadata": {},
   "outputs": [],
   "source": [
    "X_digits, Y_digits = datasets.fetch_openml('mnist_784', version=1, return_X_y=True)\n",
    "X_digits = np.array(X_digits[0:10000])\n",
    "Y_digits = np.array(Y_digits[0:10000])\n",
    "X_digits_flat = X_digits.reshape(X_digits.shape[0], -1).astype(np.float64)\n",
    "\n",
    "\n",
    "n_samples, n_features = X_digits.shape\n",
    "n_digits = len(np.unique(Y_digits))"
   ]
  },
  {
   "cell_type": "code",
   "execution_count": null,
   "id": "f4edd1d7",
   "metadata": {},
   "outputs": [],
   "source": [
    "n_clusters = n_digits\n",
    "\n",
    "# Python\n",
    "start = time.time()\n",
    "kmeans = KMeans(n_clusters=n_digits, init=\"k-means++\")\n",
    "model=kmeans.fit(X_digits_flat)\n",
    "centroids_py = model.cluster_centers_\n",
    "# clusters=model.predict(X_digits)\n",
    "print(\"Python time :\", time.time() - start)\n",
    "print(\"Python result :\", centroids_py)\n",
    "\n",
    "plt.figure(figsize=(16,6))\n",
    "for i in range(n_clusters):\n",
    "    plt.subplot(2,n_clusters,i+1)\n",
    "    plt.imshow(centroids_py[i].reshape(28,28))\n",
    "    plt.xticks(())\n",
    "    plt.yticks(())\n",
    "plt.tight_layout()\n",
    "\n",
    "# Rust\n",
    "start = time.time()\n",
    "centroids_rust = rust_pyo3.linfa_kmeans_test(n_digits, X_digits_flat)\n",
    "print(\"Rust time :\", time.time() - start)\n",
    "print(\"Rust result :\", centroids_rust)"
   ]
  }
 ],
 "metadata": {
  "kernelspec": {
   "display_name": ".venv",
   "language": "python",
   "name": "python3"
  },
  "language_info": {
   "codemirror_mode": {
    "name": "ipython",
    "version": 3
   },
   "file_extension": ".py",
   "mimetype": "text/x-python",
   "name": "python",
   "nbconvert_exporter": "python",
   "pygments_lexer": "ipython3",
   "version": "3.10.12"
  }
 },
 "nbformat": 4,
 "nbformat_minor": 5
}
