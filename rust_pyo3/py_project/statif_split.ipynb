{
 "cells": [
  {
   "cell_type": "code",
   "execution_count": 1,
   "id": "b494f5be",
   "metadata": {},
   "outputs": [
    {
     "name": "stdout",
     "output_type": "stream",
     "text": [
      "/home/kabbalow/datacraft/rust_for_data_science/.venv/bin/python\n"
     ]
    }
   ],
   "source": [
    "# To make sure to be in the right Python virtual environment\n",
    "import sys\n",
    "print(sys.executable)"
   ]
  },
  {
   "cell_type": "code",
   "execution_count": 2,
   "id": "46b8654c",
   "metadata": {},
   "outputs": [],
   "source": [
    "import matplotlib.pyplot as plt\n",
    "import numpy as np\n",
    "import random\n",
    "from sklearn.datasets import make_blobs\n",
    "from sklearn.model_selection import train_test_split\n",
    "import time"
   ]
  },
  {
   "cell_type": "markdown",
   "id": "3d560f5b",
   "metadata": {},
   "source": [
    "## Dataset definition and visualization"
   ]
  },
  {
   "cell_type": "code",
   "execution_count": null,
   "id": "4939d375",
   "metadata": {},
   "outputs": [
    {
     "name": "stdout",
     "output_type": "stream",
     "text": [
      "(12345678, 2)\n",
      "[[ -3.92459668  -0.4490853 ]\n",
      " [ -3.37785997  -7.1959502 ]\n",
      " [ -4.71836528 -11.38909644]\n",
      " [ -2.62382822  -5.96504635]\n",
      " [  1.31707565  -6.74176961]\n",
      " [ -4.62932877  -9.76527947]\n",
      " [ -3.98583218  -0.28546517]\n",
      " [ -3.11836453   0.85732175]\n",
      " [ -3.77308699   1.1936679 ]\n",
      " [ -4.31529631  -9.64528148]]\n",
      "[3 1 0 1 4 0 3 3 3 0]\n"
     ]
    },
    {
     "data": {
      "text/plain": [
       "numpy.ndarray"
      ]
     },
     "execution_count": 12,
     "metadata": {},
     "output_type": "execute_result"
    }
   ],
   "source": [
    "n_blobs = 5\n",
    "X, y = make_blobs(n_samples=12345678, centers=n_blobs, cluster_std=0.7)#, random_state=0)\n",
    "\n",
    "labels, counts = np.unique(y, return_counts=True)\n",
    "\n",
    "print(X.shape)\n",
    "print(X[: 10])\n",
    "print(y[: 10])\n",
    "\n",
    "# plt.scatter(X[:, 0], X[:, 1], c=y)\n",
    "# plt.title(\"Blobs clusters\")\n",
    "# plt.show()"
   ]
  },
  {
   "cell_type": "code",
   "execution_count": 4,
   "id": "da697848",
   "metadata": {},
   "outputs": [],
   "source": [
    "def stratif_train_test_split(X, y, test_size=0.2, train_size=None):\n",
    "\n",
    "    # Parameters\n",
    "    n_samples, _ = X.shape\n",
    "    labels = np.unique(y)\n",
    "    n_labels = len(labels)\n",
    "    train_input = True\n",
    "    if train_size == None:\n",
    "        train_input = False\n",
    "\n",
    "    X_train_set = []\n",
    "    X_test_set = []\n",
    "    y_train_set = []\n",
    "    y_test_set = []\n",
    "\n",
    "    # Constructs subsets\n",
    "    sub_label_sets = dict(zip(labels, [[] for _ in range(n_labels)]))\n",
    "    for i in range(n_samples):\n",
    "        sub_label_sets[y[i]].append(X[i])\n",
    "\n",
    "    # Constructs train and test sets\n",
    "    sub_test_sets = dict(zip(labels, [[] for _ in range(len(labels))]))\n",
    "    sub_train_sets = dict(zip(labels, [[] for _ in range(len(labels))]))\n",
    "\n",
    "    for l in range(n_labels):\n",
    "        sub_label_set = sub_label_sets[l]\n",
    "        n_samples_sub_label_set = len(sub_label_set)\n",
    "        test_prop = 0\n",
    "        train_prop = 0\n",
    "        for i in range(len(sub_label_set)):\n",
    "            if test_prop <= test_size:\n",
    "                sub_test_sets[l].append(sub_label_set[i])\n",
    "                test_prop += 1 / n_samples_sub_label_set\n",
    "                y_test_set.append(l)\n",
    "            else:\n",
    "                if train_input:\n",
    "                    if train_prop > train_size:\n",
    "                        break\n",
    "                sub_train_sets[l].append(sub_label_set[i])\n",
    "                train_prop += 1/ n_samples_sub_label_set\n",
    "                y_train_set.append(l)\n",
    "\n",
    "    for l in range(n_labels):\n",
    "        X_train_set += sub_train_sets[l]\n",
    "        X_test_set += sub_test_sets[l]\n",
    "\n",
    "    #return np.array(train_set), np.array(test_set)\n",
    "    return X_train_set, X_test_set, y_train_set, y_test_set"
   ]
  },
  {
   "cell_type": "code",
   "execution_count": 5,
   "id": "f22ad6c7",
   "metadata": {},
   "outputs": [
    {
     "name": "stdout",
     "output_type": "stream",
     "text": [
      "Python sklearn time : 2.161125659942627\n",
      "Python sklearn result: train_set length is 8271604 , test_set length is 4074074\n"
     ]
    }
   ],
   "source": [
    "# Python with sklearn\n",
    "start = time.time()\n",
    "X_train_py, X_test_py, y_trai_py, y_test_py = train_test_split(X, y, test_size=0.33)\n",
    "print(\"Python sklearn time :\", time.time() - start)\n",
    "print(\"Python sklearn result: train_set length is\", len(X_train_py), \", test_set length is\", len(X_test_py))"
   ]
  },
  {
   "cell_type": "code",
   "execution_count": 6,
   "id": "db7f6a75",
   "metadata": {},
   "outputs": [
    {
     "name": "stdout",
     "output_type": "stream",
     "text": [
      "Python sklearn time : 12.36035442352295\n",
      "Python sklearn result: train_set length is 8271603 , test_set length is 4074075\n"
     ]
    }
   ],
   "source": [
    "# Python with manual implementation\n",
    "start = time.time()\n",
    "X_train_py_m, X_test_py_m, y_train_py_m, y_test_py_m = stratif_train_test_split(X, y, test_size=0.33)\n",
    "print(\"Python sklearn time :\", time.time() - start)\n",
    "print(\"Python sklearn result: train_set length is\", len(X_train_py_m), \", test_set length is\", len(X_test_py_m))"
   ]
  },
  {
   "cell_type": "code",
   "execution_count": 7,
   "id": "30d0c994",
   "metadata": {},
   "outputs": [],
   "source": [
    "X_train_py_m=np.array(X_train_py_m)"
   ]
  },
  {
   "cell_type": "code",
   "execution_count": 8,
   "id": "d79d2435",
   "metadata": {},
   "outputs": [],
   "source": [
    "import rust_pyo3"
   ]
  },
  {
   "cell_type": "code",
   "execution_count": 10,
   "id": "856a7b50",
   "metadata": {},
   "outputs": [
    {
     "ename": "TypeError",
     "evalue": "argument 'y': 'ndarray' object cannot be converted to 'PyArray<T, D>'",
     "output_type": "error",
     "traceback": [
      "\u001b[0;31m---------------------------------------------------------------------------\u001b[0m",
      "\u001b[0;31mTypeError\u001b[0m                                 Traceback (most recent call last)",
      "Cell \u001b[0;32mIn[10], line 3\u001b[0m\n\u001b[1;32m      1\u001b[0m \u001b[38;5;66;03m# Rust with manual implmentation\u001b[39;00m\n\u001b[1;32m      2\u001b[0m start \u001b[38;5;241m=\u001b[39m time\u001b[38;5;241m.\u001b[39mtime()\n\u001b[0;32m----> 3\u001b[0m X_train_rust, X_test_rust, y_train_rust, y_test_rust \u001b[38;5;241m=\u001b[39m \u001b[43mrust_pyo3\u001b[49m\u001b[38;5;241;43m.\u001b[39;49m\u001b[43mstratified_train_test_split\u001b[49m\u001b[43m(\u001b[49m\u001b[43mX\u001b[49m\u001b[43m,\u001b[49m\u001b[43m \u001b[49m\u001b[43my\u001b[49m\u001b[43m,\u001b[49m\u001b[43m \u001b[49m\u001b[43mtest_size\u001b[49m\u001b[38;5;241;43m=\u001b[39;49m\u001b[38;5;241;43m0.33\u001b[39;49m\u001b[43m)\u001b[49m\n",
      "\u001b[0;31mTypeError\u001b[0m: argument 'y': 'ndarray' object cannot be converted to 'PyArray<T, D>'"
     ]
    }
   ],
   "source": [
    "# Rust with manual implmentation\n",
    "start = time.time()\n",
    "X_train_rust, X_test_rust, y_train_rust, y_test_rust = rust_pyo3.stratified_train_test_split(X, y, test_size=0.33)"
   ]
  }
 ],
 "metadata": {
  "kernelspec": {
   "display_name": ".venv",
   "language": "python",
   "name": "python3"
  },
  "language_info": {
   "codemirror_mode": {
    "name": "ipython",
    "version": 3
   },
   "file_extension": ".py",
   "mimetype": "text/x-python",
   "name": "python",
   "nbconvert_exporter": "python",
   "pygments_lexer": "ipython3",
   "version": "3.10.12"
  }
 },
 "nbformat": 4,
 "nbformat_minor": 5
}
