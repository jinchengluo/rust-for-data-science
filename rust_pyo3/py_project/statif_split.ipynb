{
 "cells": [
  {
   "cell_type": "code",
   "execution_count": 1,
   "id": "b494f5be",
   "metadata": {},
   "outputs": [
    {
     "name": "stdout",
     "output_type": "stream",
     "text": [
      "/home/kabbalow/datacraft/rust_for_data_science/.venv/bin/python\n"
     ]
    }
   ],
   "source": [
    "# To make sure to be in the right Python virtual environment\n",
    "import sys\n",
    "print(sys.executable)"
   ]
  },
  {
   "cell_type": "code",
   "execution_count": 2,
   "id": "46b8654c",
   "metadata": {},
   "outputs": [],
   "source": [
    "import matplotlib.pyplot as plt\n",
    "import numpy as np\n",
    "import random\n",
    "from sklearn.datasets import make_blobs\n",
    "from sklearn.model_selection import train_test_split\n",
    "import time"
   ]
  },
  {
   "cell_type": "markdown",
   "id": "3d560f5b",
   "metadata": {},
   "source": [
    "## Dataset definition and visualization"
   ]
  },
  {
   "cell_type": "code",
   "execution_count": 20,
   "id": "4939d375",
   "metadata": {},
   "outputs": [
    {
     "name": "stdout",
     "output_type": "stream",
     "text": [
      "(12345678, 2)\n",
      "[[-7.82328613  2.42113718]\n",
      " [-4.44008941 -2.98732603]\n",
      " [-7.74588054  2.4839822 ]\n",
      " [ 7.84130023 -2.07976411]\n",
      " [ 5.42499729 -0.74099223]\n",
      " [ 5.29137169 -1.60365924]\n",
      " [ 5.65112702 -0.29633151]\n",
      " [-8.24259754  2.96040107]\n",
      " [ 6.19963605 -1.50580933]\n",
      " [-4.57085324 -2.11836428]]\n",
      "[4 2 4 1 1 1 1 4 1 2]\n"
     ]
    }
   ],
   "source": [
    "n_blobs = 5\n",
    "X, y = make_blobs(n_samples=12345678, centers=n_blobs, cluster_std=0.7)#, random_state=0)\n",
    "\n",
    "labels, counts = np.unique(y, return_counts=True)\n",
    "\n",
    "print(X.shape)\n",
    "print(X[: 10])\n",
    "print(y[: 10])\n",
    "\n",
    "# plt.scatter(X[:, 0], X[:, 1], c=y)\n",
    "# plt.title(\"Blobs clusters\")\n",
    "# plt.show()"
   ]
  },
  {
   "cell_type": "code",
   "execution_count": 7,
   "id": "da697848",
   "metadata": {},
   "outputs": [],
   "source": [
    "def stratif_train_test_split(X, y, test_size=0.2, train_size=None):\n",
    "\n",
    "    # Parameters\n",
    "    n_samples, _ = X.shape\n",
    "    labels = np.unique(y)\n",
    "    n_labels = len(labels)\n",
    "    train_input = True\n",
    "    if train_size == None:\n",
    "        train_input = False\n",
    "\n",
    "    X_train_set = []\n",
    "    X_test_set = []\n",
    "    y_train_set = []\n",
    "    y_test_set = []\n",
    "\n",
    "    # Constructs subsets\n",
    "    sub_label_sets = dict(zip(labels, [[] for _ in range(n_labels)]))\n",
    "    for i in range(n_samples):\n",
    "        sub_label_sets[y[i]].append(X[i])\n",
    "\n",
    "    # Constructs train and test sets\n",
    "    sub_test_sets = dict(zip(labels, [[] for _ in range(len(labels))]))\n",
    "    sub_train_sets = dict(zip(labels, [[] for _ in range(len(labels))]))\n",
    "\n",
    "    for l in range(n_labels):\n",
    "        sub_label_set = sub_label_sets[l]\n",
    "        n_samples_sub_label_set = len(sub_label_set)\n",
    "        test_prop = 0\n",
    "        train_prop = 0\n",
    "        for i in range(len(sub_label_set)):\n",
    "            if test_prop <= test_size:\n",
    "                sub_test_sets[l].append(sub_label_set[i])\n",
    "                test_prop += 1 / n_samples_sub_label_set\n",
    "                y_test_set.append(l)\n",
    "            else:\n",
    "                if train_input:\n",
    "                    if train_prop > train_size:\n",
    "                        break\n",
    "                sub_train_sets[l].append(sub_label_set[i])\n",
    "                train_prop += 1/ n_samples_sub_label_set\n",
    "                y_train_set.append(l)\n",
    "\n",
    "    for l in range(n_labels):\n",
    "        X_train_set += sub_train_sets[l]\n",
    "        X_test_set += sub_test_sets[l]\n",
    "\n",
    "    #return np.array(train_set), np.array(test_set)\n",
    "    return X_train_set, X_test_set, y_train_set, y_test_set"
   ]
  },
  {
   "cell_type": "code",
   "execution_count": 24,
   "id": "f22ad6c7",
   "metadata": {},
   "outputs": [
    {
     "name": "stdout",
     "output_type": "stream",
     "text": [
      "Python sklearn time : 4.711221933364868\n",
      "Python sklearn result: train_set length is 8271604 , test_set length is 4074074\n"
     ]
    }
   ],
   "source": [
    "# Python with sklearn\n",
    "start = time.time()\n",
    "X_train, X_test, y_train, y_test = train_test_split(X, y, test_size=0.33)\n",
    "print(\"Python sklearn time :\", time.time() - start)\n",
    "print(\"Python sklearn result: train_set length is\", len(X_train), \", test_set length is\", len(X_test))"
   ]
  },
  {
   "cell_type": "code",
   "execution_count": 25,
   "id": "db7f6a75",
   "metadata": {},
   "outputs": [
    {
     "name": "stdout",
     "output_type": "stream",
     "text": [
      "Python sklearn time : 15.653326511383057\n",
      "Python sklearn result: train_set length is 8271603 , test_set length is 4074075\n"
     ]
    }
   ],
   "source": [
    "# Python with manuel implementation\n",
    "start = time.time()\n",
    "X_train, X_test, y_train, y_test = stratif_train_test_split(X, y, test_size=0.33)\n",
    "print(\"Python sklearn time :\", time.time() - start)\n",
    "print(\"Python sklearn result: train_set length is\", len(X_train), \", test_set length is\", len(X_test))"
   ]
  }
 ],
 "metadata": {
  "kernelspec": {
   "display_name": ".venv",
   "language": "python",
   "name": "python3"
  },
  "language_info": {
   "codemirror_mode": {
    "name": "ipython",
    "version": 3
   },
   "file_extension": ".py",
   "mimetype": "text/x-python",
   "name": "python",
   "nbconvert_exporter": "python",
   "pygments_lexer": "ipython3",
   "version": "3.10.12"
  }
 },
 "nbformat": 4,
 "nbformat_minor": 5
}
