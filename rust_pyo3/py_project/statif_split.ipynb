{
 "cells": [
  {
   "cell_type": "code",
   "execution_count": 60,
   "id": "b494f5be",
   "metadata": {},
   "outputs": [
    {
     "name": "stdout",
     "output_type": "stream",
     "text": [
      "/home/user/datacraft/rust_for_data_science/.venv/bin/python\n"
     ]
    }
   ],
   "source": [
    "# To make sure to be in the right Python virtual environment\n",
    "import sys\n",
    "print(sys.executable)"
   ]
  },
  {
   "cell_type": "code",
   "execution_count": 61,
   "id": "46b8654c",
   "metadata": {},
   "outputs": [],
   "source": [
    "import matplotlib.pyplot as plt\n",
    "import numpy as np\n",
    "import random\n",
    "from sklearn.datasets import make_blobs\n",
    "from sklearn.model_selection import train_test_split\n",
    "import time"
   ]
  },
  {
   "cell_type": "markdown",
   "id": "3d560f5b",
   "metadata": {},
   "source": [
    "## Dataset definition and visualization"
   ]
  },
  {
   "cell_type": "code",
   "execution_count": 63,
   "id": "4939d375",
   "metadata": {},
   "outputs": [
    {
     "name": "stdout",
     "output_type": "stream",
     "text": [
      "(1234567, 2)\n",
      "[[ 2.83504537  8.91090269]\n",
      " [ 2.34610109 -2.18009982]\n",
      " [-3.70175837  7.86309118]\n",
      " [ 1.2806828  -3.81573969]\n",
      " [-9.08803515  5.4218733 ]\n",
      " [-8.57875884  4.53413153]\n",
      " [-3.24260687  5.53766794]\n",
      " [ 1.64619415 -1.82351675]\n",
      " [ 1.17192308 -4.08816728]\n",
      " [-4.5593352   4.6380686 ]]\n",
      "[1 4 0 4 3 3 0 4 4 2]\n"
     ]
    }
   ],
   "source": [
    "n_blobs = 5\n",
    "X, y = make_blobs(n_samples=1234567, centers=n_blobs, cluster_std=0.7)#, random_state=0)\n",
    "y = y.astype(np.int32)\n",
    "\n",
    "labels, counts = np.unique(y, return_counts=True)\n",
    "\n",
    "print(X.shape)\n",
    "print(X[: 10])\n",
    "print(y[: 10])\n",
    "\n",
    "# plt.scatter(X[:, 0], X[:, 1], c=y)\n",
    "# plt.title(\"Blobs clusters\")\n",
    "# plt.show()"
   ]
  },
  {
   "cell_type": "markdown",
   "id": "df294f21",
   "metadata": {},
   "source": [
    "## Binary multi-class stratification"
   ]
  },
  {
   "cell_type": "markdown",
   "id": "104dab1f",
   "metadata": {},
   "source": [
    "### Python implementation"
   ]
  },
  {
   "cell_type": "code",
   "execution_count": 88,
   "id": "da697848",
   "metadata": {},
   "outputs": [],
   "source": [
    "def stratif_train_test_split(X, y, test_size=0.2, train_size=None):\n",
    "\n",
    "    # Parameters\n",
    "    n_samples, _ = X.shape\n",
    "    labels = np.unique(y)\n",
    "    n_labels = len(labels)\n",
    "    train_input = True\n",
    "    if train_size == None:\n",
    "        train_input = False\n",
    "\n",
    "    X_train_set = []\n",
    "    X_test_set = []\n",
    "    y_train_set = []\n",
    "    y_test_set = []\n",
    "\n",
    "    # Constructs subsets\n",
    "    sub_label_sets = dict(zip(labels, [[] for _ in range(n_labels)]))\n",
    "    for i in range(n_samples):\n",
    "        sub_label_sets[y[i]].append(X[i])\n",
    "\n",
    "    # Constructs train and test sets\n",
    "    sub_test_sets = dict(zip(labels, [[] for _ in range(len(labels))]))\n",
    "    sub_train_sets = dict(zip(labels, [[] for _ in range(len(labels))]))\n",
    "\n",
    "    for l in range(n_labels):\n",
    "        sub_label_set = sub_label_sets[l]\n",
    "        n_samples_sub_label_set = len(sub_label_set)\n",
    "        test_prop = 0\n",
    "        train_prop = 0\n",
    "        for i in range(len(sub_label_set)):\n",
    "            if test_prop <= test_size:\n",
    "                sub_test_sets[l].append(sub_label_set[i])\n",
    "                test_prop += 1 / n_samples_sub_label_set\n",
    "                y_test_set.append(l)\n",
    "            else:\n",
    "                if train_input:\n",
    "                    if train_prop > train_size:\n",
    "                        break\n",
    "                sub_train_sets[l].append(sub_label_set[i])\n",
    "                train_prop += 1/ n_samples_sub_label_set\n",
    "                y_train_set.append(l)\n",
    "\n",
    "    for l in range(n_labels):\n",
    "        X_train_set += sub_train_sets[l]\n",
    "        X_test_set += sub_test_sets[l]\n",
    "\n",
    "    X_train_set = np.array(X_train_set)\n",
    "    X_test_set = np.array(X_test_set)\n",
    "    y_train_set = np.array(y_train_set)\n",
    "    y_test_set = np.array(y_test_set)\n",
    "\n",
    "    return X_train_set, X_test_set, y_train_set, y_test_set"
   ]
  },
  {
   "cell_type": "markdown",
   "id": "ac8b7e57",
   "metadata": {},
   "source": [
    "### Tests"
   ]
  },
  {
   "cell_type": "markdown",
   "id": "dff39d7c",
   "metadata": {},
   "source": [
    "#### Python with sklearn"
   ]
  },
  {
   "cell_type": "code",
   "execution_count": 83,
   "id": "f22ad6c7",
   "metadata": {},
   "outputs": [
    {
     "name": "stdout",
     "output_type": "stream",
     "text": [
      "Python sklearn time : 0.8665854930877686\n",
      "Python sklearn result: train_set length is 827159 , test_set length is 407408\n"
     ]
    }
   ],
   "source": [
    "# Python with sklearn\n",
    "start = time.time()\n",
    "X_train_py, X_test_py, y_train_py, y_test_py = train_test_split(X, y, test_size=0.33, stratify=y)\n",
    "print(\"Python sklearn time :\", time.time() - start)\n",
    "print(\"Python sklearn result: train_set length is\", len(X_train_py), \", test_set length is\", len(X_test_py))\n"
   ]
  },
  {
   "cell_type": "markdown",
   "id": "5265bcb9",
   "metadata": {},
   "source": [
    "#### Python with manual implementation"
   ]
  },
  {
   "cell_type": "code",
   "execution_count": 87,
   "id": "db7f6a75",
   "metadata": {},
   "outputs": [
    {
     "name": "stdout",
     "output_type": "stream",
     "text": [
      "Python scratch time : 5.258981943130493\n",
      "Python scratch result: train_set length is 827157 , test_set length is 407410\n"
     ]
    }
   ],
   "source": [
    "# Python with manual implementation\n",
    "start = time.time()\n",
    "X_train_py_m, X_test_py_m, y_train_py_m, y_test_py_m = stratif_train_test_split(X, y, test_size=0.33)\n",
    "print(\"Python scratch time :\", time.time() - start)\n",
    "print(\"Python scratch result: train_set length is\", len(X_train_py_m), \", test_set length is\", len(X_test_py_m))"
   ]
  },
  {
   "cell_type": "markdown",
   "id": "53b5d8c0",
   "metadata": {},
   "source": [
    "#### Rust with manual implementation"
   ]
  },
  {
   "cell_type": "code",
   "execution_count": 67,
   "id": "d79d2435",
   "metadata": {},
   "outputs": [],
   "source": [
    "import rust_pyo3"
   ]
  },
  {
   "cell_type": "code",
   "execution_count": 85,
   "id": "856a7b50",
   "metadata": {},
   "outputs": [
    {
     "name": "stdout",
     "output_type": "stream",
     "text": [
      "Rust time : 2.497755765914917\n",
      "Rust result: train_set length is 827157 , test_set length is 407410\n"
     ]
    }
   ],
   "source": [
    "# Rust with manual implmentation\n",
    "start = time.time()\n",
    "X_train_rust, X_test_rust, y_train_rust, y_test_rust = rust_pyo3.stratified_train_test_split(X, y, test_size=0.33)\n",
    "print(\"Rust time :\", time.time() - start)\n",
    "print(\"Rust result: train_set length is\", len(X_train_py_m), \", test_set length is\", len(X_test_py_m))"
   ]
  },
  {
   "cell_type": "markdown",
   "id": "a4e75df7",
   "metadata": {},
   "source": [
    "### Mean time"
   ]
  },
  {
   "cell_type": "code",
   "execution_count": 50,
   "id": "bd97cc31",
   "metadata": {},
   "outputs": [],
   "source": [
    "N = 1000"
   ]
  },
  {
   "cell_type": "code",
   "execution_count": 52,
   "id": "e5cb23d3",
   "metadata": {},
   "outputs": [
    {
     "name": "stdout",
     "output_type": "stream",
     "text": [
      "Mean time execution Python with sklearn : 0.006308325529098511\n",
      "Mean time execution Python with manual implementation : 0.2346442768573761\n",
      "Mean time execution Rust with manual implementation : 0.17573338747024536\n"
     ]
    }
   ],
   "source": [
    "py_sk_time = []\n",
    "py_time = []\n",
    "rust_time = []\n",
    "\n",
    "for _ in range(N):\n",
    "    start = time.time()\n",
    "    X_train_py, X_test_py, y_trai_py, y_test_py = train_test_split(X, y, test_size=0.33)\n",
    "    py_sk_time.append(time.time() - start)\n",
    "\n",
    "    start = time.time()\n",
    "    X_train_py_m, X_test_py_m, y_train_py_m, y_test_py_m = stratif_train_test_split(X, y, test_size=0.33)\n",
    "    py_time.append(time.time() - start)\n",
    "\n",
    "    start = time.time()\n",
    "    X_train_rust, X_test_rust, y_train_rust, y_test_rust = rust_pyo3.stratified_train_test_split(X, y, test_size=0.33)\n",
    "    rust_time.append(time.time() - start)\n",
    "\n",
    "E_py_sk = np.mean(py_sk_time)\n",
    "E_py = np.mean(py_time)\n",
    "E_rust = np.mean(rust_time)\n",
    "\n",
    "print(\"Mean time execution Python with sklearn :\", E_py_sk)\n",
    "print(\"Mean time execution Python with manual implementation :\", E_py)\n",
    "print(\"Mean time execution Rust with manual implementation :\", E_rust)"
   ]
  },
  {
   "cell_type": "markdown",
   "id": "a98b7791",
   "metadata": {},
   "source": [
    "## K-fold multi-class stratification"
   ]
  },
  {
   "cell_type": "markdown",
   "id": "f9a4e11d",
   "metadata": {},
   "source": [
    "### Python Implementation"
   ]
  },
  {
   "cell_type": "code",
   "execution_count": null,
   "id": "7020c9fa",
   "metadata": {},
   "outputs": [],
   "source": [
    "def stratif_kfold_split(X, y, K, test_size=0.2, train_size=None):\n",
    "\n",
    "    # Parameters\n",
    "    n_samples, _ = X.shape\n",
    "    labels = np.unique(y)\n",
    "    n_labels = len(labels)\n",
    "    train_input = True\n",
    "    if train_size == None:\n",
    "        train_input = False\n",
    "\n",
    "    X_train_set = []\n",
    "    X_test_set = []\n",
    "    y_train_set = []\n",
    "    y_test_set = []\n",
    "\n",
    "    # Constructs subsets\n",
    "    sub_label_sets = dict(zip(labels, [[] for _ in range(n_labels)]))\n",
    "    for i in range(n_samples):\n",
    "        sub_label_sets[y[i]].append(X[i])\n",
    "\n",
    "    # Constructs train and test sets\n",
    "    sub_test_sets = dict(zip(labels, [[] for _ in range(len(labels))]))\n",
    "    sub_train_sets = dict(zip(labels, [[] for _ in range(len(labels))]))\n",
    "\n",
    "    for l in range(n_labels):\n",
    "        sub_label_set = sub_label_sets[l]\n",
    "        n_samples_sub_label_set = len(sub_label_set)\n",
    "        test_prop = 0\n",
    "        train_prop = 0\n",
    "        for i in range(len(sub_label_set)):\n",
    "            if test_prop <= test_size:\n",
    "                sub_test_sets[l].append(sub_label_set[i])\n",
    "                test_prop += 1 / n_samples_sub_label_set\n",
    "                y_test_set.append(l)\n",
    "            else:\n",
    "                if train_input:\n",
    "                    if train_prop > train_size:\n",
    "                        break\n",
    "                sub_train_sets[l].append(sub_label_set[i])\n",
    "                train_prop += 1/ n_samples_sub_label_set\n",
    "                y_train_set.append(l)\n",
    "\n",
    "    for l in range(n_labels):\n",
    "        X_train_set += sub_train_sets[l]\n",
    "        X_test_set += sub_test_sets[l]\n",
    "\n",
    "    return X_train_set, X_test_set, y_train_set, y_test_set\n"
   ]
  }
 ],
 "metadata": {
  "kernelspec": {
   "display_name": "rust-for-data-science",
   "language": "python",
   "name": "python3"
  },
  "language_info": {
   "codemirror_mode": {
    "name": "ipython",
    "version": 3
   },
   "file_extension": ".py",
   "mimetype": "text/x-python",
   "name": "python",
   "nbconvert_exporter": "python",
   "pygments_lexer": "ipython3",
   "version": "3.12.11"
  }
 },
 "nbformat": 4,
 "nbformat_minor": 5
}
