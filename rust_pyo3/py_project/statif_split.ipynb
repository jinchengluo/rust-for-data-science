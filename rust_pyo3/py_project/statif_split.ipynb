{
 "cells": [
  {
   "cell_type": "code",
   "execution_count": 1,
   "id": "b494f5be",
   "metadata": {},
   "outputs": [
    {
     "name": "stdout",
     "output_type": "stream",
     "text": [
      "/home/user/datacraft/rust_for_data_science/.venv/bin/python\n"
     ]
    }
   ],
   "source": [
    "# To make sure to be in the right Python virtual environment\n",
    "import sys\n",
    "print(sys.executable)"
   ]
  },
  {
   "cell_type": "code",
   "execution_count": 2,
   "id": "46b8654c",
   "metadata": {},
   "outputs": [],
   "source": [
    "import matplotlib.pyplot as plt\n",
    "import numpy as np\n",
    "import random\n",
    "from sklearn.datasets import make_blobs\n",
    "from sklearn.model_selection import train_test_split, StratifiedKFold\n",
    "import time"
   ]
  },
  {
   "cell_type": "markdown",
   "id": "3d560f5b",
   "metadata": {},
   "source": [
    "## Dataset definition and visualization"
   ]
  },
  {
   "cell_type": "code",
   "execution_count": 75,
   "id": "4939d375",
   "metadata": {},
   "outputs": [
    {
     "name": "stdout",
     "output_type": "stream",
     "text": [
      "(100000, 2)\n",
      "[[ 4.6856834  -2.30292619]\n",
      " [-0.47142936  0.01453754]\n",
      " [ 3.27857164 -5.73276009]\n",
      " [ 0.09436453  0.05786487]\n",
      " [ 2.40886816 -0.35340859]\n",
      " [ 1.82961202 -1.22465973]\n",
      " [ 4.77389859 -1.14232579]\n",
      " [-7.82092982  3.24291482]\n",
      " [ 5.35471661 -0.12146116]\n",
      " [ 4.34379688 -5.02951315]]\n",
      "[0 1 0 1 1 1 2 3 2 0]\n"
     ]
    }
   ],
   "source": [
    "n_blobs = 4\n",
    "X, y = make_blobs(n_samples=100000, centers=n_blobs, cluster_std=0.7)#, random_state=0)\n",
    "y = y.astype(np.int32)\n",
    "\n",
    "labels, counts = np.unique(y, return_counts=True)\n",
    "\n",
    "print(X.shape)\n",
    "print(X[: 10])\n",
    "print(y[: 10])\n",
    "\n",
    "# plt.scatter(X[:, 0], X[:, 1], c=y)\n",
    "# plt.title(\"Blobs clusters\")\n",
    "# plt.show()"
   ]
  },
  {
   "cell_type": "markdown",
   "id": "df294f21",
   "metadata": {},
   "source": [
    "## Binary multi-class stratification"
   ]
  },
  {
   "cell_type": "markdown",
   "id": "104dab1f",
   "metadata": {},
   "source": [
    "### Python implementation"
   ]
  },
  {
   "cell_type": "code",
   "execution_count": 4,
   "id": "da697848",
   "metadata": {},
   "outputs": [],
   "source": [
    "def stratif_train_test_split(X, y, test_size=0.2, train_size=None):\n",
    "\n",
    "    # Parameters\n",
    "    n_samples, _ = X.shape\n",
    "    labels = np.unique(y)\n",
    "    n_labels = len(labels)\n",
    "    train_input = True\n",
    "    if train_size == None:\n",
    "        train_input = False\n",
    "\n",
    "    X_train_set = []\n",
    "    X_test_set = []\n",
    "    y_train_set = []\n",
    "    y_test_set = []\n",
    "\n",
    "    # Constructs subsets\n",
    "    sub_label_sets = dict(zip(labels, [[] for _ in range(n_labels)]))\n",
    "    for i in range(n_samples):\n",
    "        sub_label_sets[y[i]].append(X[i])\n",
    "\n",
    "    # Constructs train and test sets\n",
    "    sub_test_sets = dict(zip(labels, [[] for _ in range(len(labels))]))\n",
    "    sub_train_sets = dict(zip(labels, [[] for _ in range(len(labels))]))\n",
    "\n",
    "    for l in range(n_labels):\n",
    "        sub_label_set = sub_label_sets[l]\n",
    "        n_samples_sub_label_set = len(sub_label_set)\n",
    "        test_prop = 0\n",
    "        train_prop = 0\n",
    "        for i in range(n_samples_sub_label_set):\n",
    "            if test_prop <= test_size:\n",
    "                sub_test_sets[l].append(sub_label_set[i])\n",
    "                test_prop += 1 / n_samples_sub_label_set\n",
    "                y_test_set.append(l)\n",
    "            else:\n",
    "                if train_input:\n",
    "                    if train_prop > train_size:\n",
    "                        break\n",
    "                sub_train_sets[l].append(sub_label_set[i])\n",
    "                train_prop += 1/ n_samples_sub_label_set\n",
    "                y_train_set.append(l)\n",
    "\n",
    "    for l in range(n_labels):\n",
    "        X_train_set += sub_train_sets[l]\n",
    "        X_test_set += sub_test_sets[l]\n",
    "\n",
    "    X_train_set = np.array(X_train_set)\n",
    "    X_test_set = np.array(X_test_set)\n",
    "    y_train_set = np.array(y_train_set)\n",
    "    y_test_set = np.array(y_test_set)\n",
    "\n",
    "    return X_train_set, X_test_set, y_train_set, y_test_set"
   ]
  },
  {
   "cell_type": "markdown",
   "id": "ac8b7e57",
   "metadata": {},
   "source": [
    "### Tests"
   ]
  },
  {
   "cell_type": "markdown",
   "id": "dff39d7c",
   "metadata": {},
   "source": [
    "#### Python with sklearn"
   ]
  },
  {
   "cell_type": "code",
   "execution_count": 15,
   "id": "f22ad6c7",
   "metadata": {},
   "outputs": [
    {
     "name": "stdout",
     "output_type": "stream",
     "text": [
      "Python sklearn time : 0.05598309799825074\n",
      "Python sklearn result: train_set length is 67000 , test_set length is 33000\n"
     ]
    }
   ],
   "source": [
    "# Python with sklearn\n",
    "start = time.perf_counter()\n",
    "X_train_py, X_test_py, y_train_py, y_test_py = train_test_split(X, y, test_size=0.33, stratify=y)\n",
    "print(\"Python sklearn time :\", time.perf_counter() - start)\n",
    "print(\"Python sklearn result: train_set length is\", len(X_train_py), \", test_set length is\", len(X_test_py))\n"
   ]
  },
  {
   "cell_type": "markdown",
   "id": "5265bcb9",
   "metadata": {},
   "source": [
    "#### Python with manual implementation"
   ]
  },
  {
   "cell_type": "code",
   "execution_count": 25,
   "id": "db7f6a75",
   "metadata": {},
   "outputs": [
    {
     "name": "stdout",
     "output_type": "stream",
     "text": [
      "Python scratch time : 0.25572829299926525\n",
      "Python scratch result: train_set length is 67000 , test_set length is 33000\n"
     ]
    }
   ],
   "source": [
    "# Python with manual implementation\n",
    "start = time.perf_counter()\n",
    "X_train_py_m, X_test_py_m, y_train_py_m, y_test_py_m = stratif_train_test_split(X, y, test_size=0.33)\n",
    "print(\"Python scratch time :\", time.perf_counter() - start)\n",
    "print(\"Python scratch result: train_set length is\", len(X_train_py_m), \", test_set length is\", len(X_test_py_m))"
   ]
  },
  {
   "cell_type": "markdown",
   "id": "53b5d8c0",
   "metadata": {},
   "source": [
    "#### Rust with manual implementation"
   ]
  },
  {
   "cell_type": "code",
   "execution_count": 27,
   "id": "d79d2435",
   "metadata": {},
   "outputs": [],
   "source": [
    "import rust_pyo3"
   ]
  },
  {
   "cell_type": "code",
   "execution_count": 33,
   "id": "856a7b50",
   "metadata": {},
   "outputs": [
    {
     "name": "stdout",
     "output_type": "stream",
     "text": [
      "Rust time : 0.03669349900155794\n",
      "Rust result: train_set length is 67000 , test_set length is 33000\n"
     ]
    }
   ],
   "source": [
    "# Rust with manual implmentation\n",
    "start = time.perf_counter()\n",
    "X_train_rust, X_test_rust, y_train_rust, y_test_rust = rust_pyo3.stratified_train_test_split(X, y, test_size=0.33)\n",
    "print(\"Rust time :\", time.perf_counter() - start)\n",
    "print(\"Rust result: train_set length is\", len(X_train_py_m), \", test_set length is\", len(X_test_py_m))"
   ]
  },
  {
   "cell_type": "code",
   "execution_count": 34,
   "id": "29b0e427",
   "metadata": {},
   "outputs": [
    {
     "name": "stdout",
     "output_type": "stream",
     "text": [
      "[0.25 0.25 0.25 0.25]\n",
      "[0.25 0.25 0.25 0.25]\n",
      "  \n",
      "[0.25 0.25 0.25 0.25]\n",
      "[0.25 0.25 0.25 0.25]\n",
      "  \n",
      "[0.25 0.25 0.25 0.25]\n",
      "[0.25 0.25 0.25 0.25]\n"
     ]
    }
   ],
   "source": [
    "labels, counts = np.unique(y_test_py, return_counts=True)\n",
    "print(counts/len(y_test_py))\n",
    "labels, counts = np.unique(y_train_py, return_counts=True)\n",
    "print(counts/len(y_train_py))\n",
    "print(\"  \")\n",
    "labels, counts = np.unique(y_test_py_m, return_counts=True)\n",
    "print(counts/len(y_test_py_m))\n",
    "labels, counts = np.unique(y_train_py_m, return_counts=True)\n",
    "print(counts/len(y_train_py_m))\n",
    "print(\"  \")\n",
    "labels, counts = np.unique(y_test_rust, return_counts=True)\n",
    "print(counts/len(y_test_rust))\n",
    "labels, counts = np.unique(y_train_rust, return_counts=True)\n",
    "print(counts/len(y_train_rust))"
   ]
  },
  {
   "cell_type": "markdown",
   "id": "a4e75df7",
   "metadata": {},
   "source": [
    "### Mean time"
   ]
  },
  {
   "cell_type": "code",
   "execution_count": null,
   "id": "bd97cc31",
   "metadata": {},
   "outputs": [],
   "source": [
    "N = 1000"
   ]
  },
  {
   "cell_type": "code",
   "execution_count": null,
   "id": "e5cb23d3",
   "metadata": {},
   "outputs": [],
   "source": [
    "py_sk_time = []\n",
    "py_time = []\n",
    "rust_time = []\n",
    "\n",
    "for _ in range(N):\n",
    "    start = time.time()\n",
    "    X_train_py, X_test_py, y_trai_py, y_test_py = train_test_split(X, y, test_size=0.33)\n",
    "    py_sk_time.append(time.time() - start)\n",
    "\n",
    "    start = time.time()\n",
    "    X_train_py_m, X_test_py_m, y_train_py_m, y_test_py_m = stratif_train_test_split(X, y, test_size=0.33)\n",
    "    py_time.append(time.time() - start)\n",
    "\n",
    "    start = time.time()\n",
    "    X_train_rust, X_test_rust, y_train_rust, y_test_rust = rust_pyo3.stratified_train_test_split(X, y, test_size=0.33)\n",
    "    rust_time.append(time.time() - start)\n",
    "\n",
    "E_py_sk = np.mean(py_sk_time)\n",
    "E_py = np.mean(py_time)\n",
    "E_rust = np.mean(rust_time)\n",
    "\n",
    "print(\"Mean time execution Python with sklearn :\", E_py_sk)\n",
    "print(\"Mean time execution Python with manual implementation :\", E_py)\n",
    "print(\"Mean time execution Rust with manual implementation :\", E_rust)"
   ]
  },
  {
   "cell_type": "markdown",
   "id": "a98b7791",
   "metadata": {},
   "source": [
    "## K-fold multi-class stratification"
   ]
  },
  {
   "cell_type": "markdown",
   "id": "f9a4e11d",
   "metadata": {},
   "source": [
    "### Python Implementation"
   ]
  },
  {
   "cell_type": "code",
   "execution_count": 56,
   "id": "7020c9fa",
   "metadata": {},
   "outputs": [],
   "source": [
    "def stratif_kfold_split(X, y, K, sizes=None):\n",
    "\n",
    "    # Parameters\n",
    "    n_samples, _ = X.shape\n",
    "    labels = np.unique(y)\n",
    "    n_labels = len(labels)\n",
    "\n",
    "    X_kfolds = [[] for _ in range(K)]\n",
    "    y_kfolds = [[] for _ in range(K)]\n",
    "\n",
    "    # Constructs subsets\n",
    "    sub_label_sets = dict(zip(labels, [[] for _ in range(n_labels)]))\n",
    "    for i in range(n_samples):\n",
    "        sub_label_sets[y[i]].append(X[i])\n",
    "\n",
    "    # Constructs folds\n",
    "    current_fold = 0\n",
    "    for l in range(n_labels):\n",
    "        sub_label_set = sub_label_sets[l]\n",
    "        n_samples_sub_label_set = len(sub_label_set)\n",
    "        for i in range(n_samples_sub_label_set):\n",
    "            X_kfolds[current_fold].append(sub_label_set[i])\n",
    "            y_kfolds[current_fold].append(l)\n",
    "            current_fold += 1\n",
    "            current_fold %= K\n",
    "\n",
    "    return X_kfolds, y_kfolds"
   ]
  },
  {
   "cell_type": "code",
   "execution_count": null,
   "id": "3ccd1d32",
   "metadata": {},
   "outputs": [
    {
     "name": "stdout",
     "output_type": "stream",
     "text": [
      "Python scratch time: 0.2647780410006817\n",
      "Samples repartition in each folds [0.25 0.25 0.25 0.25]\n",
      "Samples repartition in each folds [0.25 0.25 0.25 0.25]\n",
      "Samples repartition in each folds [0.25 0.25 0.25 0.25]\n",
      "Samples repartition in each folds [0.25 0.25 0.25 0.25]\n",
      "Samples repartition in each folds [0.25 0.25 0.25 0.25]\n",
      "Samples repartition in each folds [0.25 0.25 0.25 0.25]\n",
      "Samples repartition in each folds [0.25 0.25 0.25 0.25]\n",
      "Samples repartition in each folds [0.25 0.25 0.25 0.25]\n",
      "Samples repartition in each folds [0.25 0.25 0.25 0.25]\n",
      "Samples repartition in each folds [0.25 0.25 0.25 0.25]\n"
     ]
    }
   ],
   "source": [
    "start = time.perf_counter()\n",
    "X_kfolds_py, y_kfolds_py = stratif_kfold_split(X, y, 10)\n",
    "print(\"Python scratch time:\", time.perf_counter() - start)\n",
    "\n",
    "for fold in y_kfolds_py:\n",
    "    _, counts = np.unique(fold, return_counts=True)\n",
    "    print(\"Samples repartition in each folds\",counts/len(fold))"
   ]
  },
  {
   "cell_type": "code",
   "execution_count": 94,
   "id": "d6a910aa",
   "metadata": {},
   "outputs": [
    {
     "name": "stdout",
     "output_type": "stream",
     "text": [
      "Rust time : 0.05996808700001566\n",
      "Samples repartition in each folds [0.25 0.25 0.25 0.25]\n",
      "Samples repartition in each folds [0.25 0.25 0.25 0.25]\n",
      "Samples repartition in each folds [0.25 0.25 0.25 0.25]\n",
      "Samples repartition in each folds [0.25 0.25 0.25 0.25]\n",
      "Samples repartition in each folds [0.25 0.25 0.25 0.25]\n",
      "Samples repartition in each folds [0.25 0.25 0.25 0.25]\n",
      "Samples repartition in each folds [0.25 0.25 0.25 0.25]\n",
      "Samples repartition in each folds [0.25 0.25 0.25 0.25]\n",
      "Samples repartition in each folds [0.25 0.25 0.25 0.25]\n",
      "Samples repartition in each folds [0.25 0.25 0.25 0.25]\n",
      "Samples repartition in each folds [0.25 0.25 0.25 0.25]\n",
      "Samples repartition in each folds [0.25 0.25 0.25 0.25]\n",
      "Samples repartition in each folds [0.25 0.25 0.25 0.25]\n",
      "Samples repartition in each folds [0.25 0.25 0.25 0.25]\n",
      "Samples repartition in each folds [0.25 0.25 0.25 0.25]\n",
      "Samples repartition in each folds [0.25 0.25 0.25 0.25]\n",
      "Samples repartition in each folds [0.25 0.25 0.25 0.25]\n",
      "Samples repartition in each folds [0.25 0.25 0.25 0.25]\n",
      "Samples repartition in each folds [0.25 0.25 0.25 0.25]\n",
      "Samples repartition in each folds [0.25 0.25 0.25 0.25]\n",
      "Samples repartition in each folds [0.25 0.25 0.25 0.25]\n",
      "Samples repartition in each folds [0.25 0.25 0.25 0.25]\n",
      "Samples repartition in each folds [0.25 0.25 0.25 0.25]\n",
      "Samples repartition in each folds [0.25 0.25 0.25 0.25]\n",
      "Samples repartition in each folds [0.25 0.25 0.25 0.25]\n",
      "Samples repartition in each folds [0.25 0.25 0.25 0.25]\n",
      "Samples repartition in each folds [0.25 0.25 0.25 0.25]\n",
      "Samples repartition in each folds [0.25 0.25 0.25 0.25]\n",
      "Samples repartition in each folds [0.25 0.25 0.25 0.25]\n",
      "Samples repartition in each folds [0.25 0.25 0.25 0.25]\n",
      "Samples repartition in each folds [0.25 0.25 0.25 0.25]\n",
      "Samples repartition in each folds [0.25 0.25 0.25 0.25]\n",
      "Samples repartition in each folds [0.25 0.25 0.25 0.25]\n",
      "Samples repartition in each folds [0.25 0.25 0.25 0.25]\n",
      "Samples repartition in each folds [0.25 0.25 0.25 0.25]\n",
      "Samples repartition in each folds [0.25 0.25 0.25 0.25]\n",
      "Samples repartition in each folds [0.25 0.25 0.25 0.25]\n",
      "Samples repartition in each folds [0.25 0.25 0.25 0.25]\n",
      "Samples repartition in each folds [0.25 0.25 0.25 0.25]\n",
      "Samples repartition in each folds [0.25 0.25 0.25 0.25]\n"
     ]
    }
   ],
   "source": [
    "start = time.perf_counter()\n",
    "X_kfolds_rust, y_kfolds_rust = rust_pyo3.stratified_kfold_split(X, y, 40)\n",
    "print(\"Rust time :\", time.perf_counter() - start)\n",
    "for fold in y_kfolds_rust:\n",
    "    _, counts = np.unique(fold, return_counts=True)\n",
    "    print(\"Samples repartition in each folds\",counts/len(fold))"
   ]
  },
  {
   "cell_type": "code",
   "execution_count": 89,
   "id": "b3aecd6f",
   "metadata": {},
   "outputs": [
    {
     "name": "stdout",
     "output_type": "stream",
     "text": [
      "Mean time execution Python with manual implementation : 0.12632954521013745\n",
      "Mean time execution Rust with manual implementation : 0.04483465774996148\n"
     ]
    }
   ],
   "source": [
    "N = 100\n",
    "# py_sk_time_kf = []\n",
    "py_time_kf = []\n",
    "rust_time_kf = []\n",
    "\n",
    "for _ in range(N):\n",
    "    start = time.perf_counter()\n",
    "    X_kfolds_py, y_kfolds_py = stratif_kfold_split(X, y, 3)\n",
    "    py_time_kf.append(time.perf_counter() - start)\n",
    "\n",
    "    start = time.perf_counter()\n",
    "    X_kfolds_rust, y_kfolds_rust = rust_pyo3.stratified_kfold_split(X, y, 3)\n",
    "    rust_time_kf.append(time.perf_counter() - start)\n",
    "\n",
    "# E_py_sk = np.mean(py_sk_time_kf)\n",
    "E_py_kf = np.mean(py_time_kf)\n",
    "E_rust_kf = np.mean(rust_time_kf)\n",
    "\n",
    "# print(\"Mean time execution Python with sklearn :\", E_py_sk)\n",
    "print(\"Mean time execution Python with manual implementation :\", E_py_kf)\n",
    "print(\"Mean time execution Rust with manual implementation :\", E_rust_kf)"
   ]
  }
 ],
 "metadata": {
  "kernelspec": {
   "display_name": "rust-for-data-science",
   "language": "python",
   "name": "python3"
  },
  "language_info": {
   "codemirror_mode": {
    "name": "ipython",
    "version": 3
   },
   "file_extension": ".py",
   "mimetype": "text/x-python",
   "name": "python",
   "nbconvert_exporter": "python",
   "pygments_lexer": "ipython3",
   "version": "3.12.11"
  }
 },
 "nbformat": 4,
 "nbformat_minor": 5
}
